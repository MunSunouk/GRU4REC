{
  "nbformat": 4,
  "nbformat_minor": 0,
  "metadata": {
    "colab": {
      "name": "제출문서.ipynb",
      "provenance": []
    },
    "kernelspec": {
      "name": "python3",
      "display_name": "Python 3"
    }
  },
  "cells": [
    {
      "cell_type": "markdown",
      "metadata": {
        "id": "big7a2XVaYd4"
      },
      "source": [
        "# 순서\r\n",
        "\r\n",
        "1. 데이터의 특징\r\n",
        "2. 모델을 평가하는데 가장 적합한 metric 과 그 이유\r\n",
        "3. 적용한 기술 및 모델 튜닝 방법\r\n",
        "4. Key Point(중요했던 부분)\r\n",
        "5. Hurdle Point(미흡하거나 어려웠던 부분)\r\n",
        "6. 레퍼런스 논문들"
      ]
    },
    {
      "cell_type": "markdown",
      "metadata": {
        "id": "KQxbxNEFa8uR"
      },
      "source": [
        "# 1.EDA"
      ]
    },
    {
      "cell_type": "code",
      "metadata": {
        "id": "6C0_wFg19U6l"
      },
      "source": [
        "import pandas as pd\r\n",
        "import matplotlib as mpl\r\n",
        "import matplotlib.pylab as plt\r\n",
        "import seaborn as sns\r\n",
        "import numpy as np"
      ],
      "execution_count": null,
      "outputs": []
    },
    {
      "cell_type": "code",
      "metadata": {
        "id": "ZPbSZ8Zo8bTw"
      },
      "source": [
        "df = pd.read_csv('./recommendation_dataset/user_train.csv')"
      ],
      "execution_count": null,
      "outputs": []
    },
    {
      "cell_type": "markdown",
      "metadata": {
        "id": "gL2s1YSuXWtS"
      },
      "source": [
        "## 물품들의 판매 갯수\r\n",
        "아리 분포 그래프를 부면 전형적인 긴 꼬리 형태로 대부분 조회 횟수가 40회 미만입니다"
      ]
    },
    {
      "cell_type": "code",
      "metadata": {
        "id": "lRzKW1G6-AV1"
      },
      "source": [
        "user_pick_count_df = df.groupby('user_id').size().reset_index().rename(columns = {0: 'count'})"
      ],
      "execution_count": null,
      "outputs": []
    },
    {
      "cell_type": "code",
      "metadata": {
        "colab": {
          "base_uri": "https://localhost:8080/",
          "height": 444
        },
        "id": "hXHq_T_w-FoI",
        "outputId": "440d3462-ab64-4a7b-f943-a558d568fb5b"
      },
      "source": [
        "plt.figure(figsize = (14, 6))\r\n",
        "sns.distplot(user_pick_count_df[user_pick_count_df['count'] < 100]['count'])\r\n",
        "plt.xlabel('Number of product_picked')\r\n",
        "plt.ylabel('Count')\r\n",
        "plt.show()"
      ],
      "execution_count": null,
      "outputs": [
        {
          "output_type": "stream",
          "text": [
            "/usr/local/lib/python3.7/dist-packages/seaborn/distributions.py:2557: FutureWarning: `distplot` is a deprecated function and will be removed in a future version. Please adapt your code to use either `displot` (a figure-level function with similar flexibility) or `histplot` (an axes-level function for histograms).\n",
            "  warnings.warn(msg, FutureWarning)\n"
          ],
          "name": "stderr"
        },
        {
          "output_type": "display_data",
          "data": {
            "image/png": "[encoded data removed]",
            "text/plain": [
              "<Figure size 1008x432 with 1 Axes>"
            ]
          },
          "metadata": {
            "tags": [],
            "needs_background": "light"
          }
        }
      ]
    },
    {
      "cell_type": "code",
      "metadata": {
        "id": "ZS7q3yZNABQK"
      },
      "source": [
        "product = pd.read_csv('./recommendation_dataset/product.csv')"
      ],
      "execution_count": null,
      "outputs": []
    },
    {
      "cell_type": "code",
      "metadata": {
        "colab": {
          "base_uri": "https://localhost:8080/",
          "height": 402
        },
        "id": "cQB2ztzDI_L7",
        "outputId": "77d726a3-39b4-4c1b-f40e-4db862c0844c"
      },
      "source": [
        "product"
      ],
      "execution_count": null,
      "outputs": [
        {
          "output_type": "execute_result",
          "data": {
            "text/html": [
              "<div>\n",
              "<style scoped>\n",
              "    .dataframe tbody tr th:only-of-type {\n",
              "        vertical-align: middle;\n",
              "    }\n",
              "\n",
              "    .dataframe tbody tr th {\n",
              "        vertical-align: top;\n",
              "    }\n",
              "\n",
              "    .dataframe thead th {\n",
              "        text-align: right;\n",
              "    }\n",
              "</style>\n",
              "<table border=\"1\" class=\"dataframe\">\n",
              "  <thead>\n",
              "    <tr style=\"text-align: right;\">\n",
              "      <th></th>\n",
              "      <th>Unnamed: 0</th>\n",
              "      <th>description</th>\n",
              "      <th>product_id</th>\n",
              "      <th>price</th>\n",
              "      <th>low_price</th>\n",
              "    </tr>\n",
              "  </thead>\n",
              "  <tbody>\n",
              "    <tr>\n",
              "      <th>0</th>\n",
              "      <td>0</td>\n",
              "      <td>모그 핑크에디션 린넨 100 여성 티블라우스 3종</td>\n",
              "      <td>b3 1046 b2 711864 4 52b86f b 290b 64f093 048 b...</td>\n",
              "      <td>79000</td>\n",
              "      <td>78000</td>\n",
              "    </tr>\n",
              "    <tr>\n",
              "      <th>1</th>\n",
              "      <td>1</td>\n",
              "      <td>gs단독방송 파오 pao 페이셜 피트니스</td>\n",
              "      <td>378 033f98466282b 6 7 1 b14f1 f8 8bb6f bf4115 ...</td>\n",
              "      <td>138000</td>\n",
              "      <td>124200</td>\n",
              "    </tr>\n",
              "    <tr>\n",
              "      <th>2</th>\n",
              "      <td>2</td>\n",
              "      <td>트라이엄프 슬로기 제로필 볼륨 여성속옷 브라팬티 8종세트</td>\n",
              "      <td>544 814338 218 5b3908 404f178027b249 2 4 77 b23</td>\n",
              "      <td>79000</td>\n",
              "      <td>78000</td>\n",
              "    </tr>\n",
              "    <tr>\n",
              "      <th>3</th>\n",
              "      <td>3</td>\n",
              "      <td>as98 에이에스98 파니아 프리미엄 웨지샌들 t y</td>\n",
              "      <td>142b1 66702 12 51525 1466660 8720 79 b 2499713...</td>\n",
              "      <td>138000</td>\n",
              "      <td>128000</td>\n",
              "    </tr>\n",
              "    <tr>\n",
              "      <th>4</th>\n",
              "      <td>4</td>\n",
              "      <td>all made in italy a s 98 파니아 이태리 웨지힐</td>\n",
              "      <td>829f12241 8 0816391 09 42884 f b1b8 01086 97 9...</td>\n",
              "      <td>138000</td>\n",
              "      <td>137000</td>\n",
              "    </tr>\n",
              "    <tr>\n",
              "      <th>...</th>\n",
              "      <td>...</td>\n",
              "      <td>...</td>\n",
              "      <td>...</td>\n",
              "      <td>...</td>\n",
              "      <td>...</td>\n",
              "    </tr>\n",
              "    <tr>\n",
              "      <th>56082</th>\n",
              "      <td>56082</td>\n",
              "      <td>노스페이스화이트라벨 여성용 카로나 워터 레깅스 all nyf6ki39 all</td>\n",
              "      <td>8ff6b9 67655244f9 4085 474182 961f 8048 193 5b...</td>\n",
              "      <td>40000</td>\n",
              "      <td>40000</td>\n",
              "    </tr>\n",
              "    <tr>\n",
              "      <th>56083</th>\n",
              "      <td>56083</td>\n",
              "      <td>캔마트 라벨무지라운드티 c051501</td>\n",
              "      <td>83 9f7 6f1023857 9 f 742f461f345 8 f4289 2 9 9...</td>\n",
              "      <td>8000</td>\n",
              "      <td>8000</td>\n",
              "    </tr>\n",
              "    <tr>\n",
              "      <th>56084</th>\n",
              "      <td>56084</td>\n",
              "      <td>노스페이스에디션 노스페이스 에디션 w’s lansing zip up jac</td>\n",
              "      <td>1804199 f08 f 9 0 342 91 241 71 6710 34 5741105</td>\n",
              "      <td>39000</td>\n",
              "      <td>39000</td>\n",
              "    </tr>\n",
              "    <tr>\n",
              "      <th>56085</th>\n",
              "      <td>56085</td>\n",
              "      <td>lazybee 코르셋1703 여성 래쉬가드 이너웨어</td>\n",
              "      <td>3095 226057 54b 451947 817 f39 099 37969bb4 95...</td>\n",
              "      <td>19800</td>\n",
              "      <td>15840</td>\n",
              "    </tr>\n",
              "    <tr>\n",
              "      <th>56086</th>\n",
              "      <td>56086</td>\n",
              "      <td>크리넥스 디럭스미니 카카오 new 230x6 x 2</td>\n",
              "      <td>25 4 574b50916 21 27f8796b 935f7 8 f 5 589 fb ...</td>\n",
              "      <td>15900</td>\n",
              "      <td>15900</td>\n",
              "    </tr>\n",
              "  </tbody>\n",
              "</table>\n",
              "<p>56087 rows × 5 columns</p>\n",
              "</div>"
            ],
            "text/plain": [
              "       Unnamed: 0  ... low_price\n",
              "0               0  ...     78000\n",
              "1               1  ...    124200\n",
              "2               2  ...     78000\n",
              "3               3  ...    128000\n",
              "4               4  ...    137000\n",
              "...           ...  ...       ...\n",
              "56082       56082  ...     40000\n",
              "56083       56083  ...      8000\n",
              "56084       56084  ...     39000\n",
              "56085       56085  ...     15840\n",
              "56086       56086  ...     15900\n",
              "\n",
              "[56087 rows x 5 columns]"
            ]
          },
          "metadata": {
            "tags": []
          },
          "execution_count": 19
        }
      ]
    },
    {
      "cell_type": "markdown",
      "metadata": {
        "id": "X5ydX3s6Xzq7"
      },
      "source": [
        "## 할인가의 영향\r\n",
        "밑의 히스토리그램으로 볼수있듯 할인을 하였다해서 드라마틱한 변화는 일어나지 않습니다."
      ]
    },
    {
      "cell_type": "code",
      "metadata": {
        "colab": {
          "base_uri": "https://localhost:8080/",
          "height": 357
        },
        "id": "f5MtLWuV_6c6",
        "outputId": "dd84254f-f724-4190-866a-e28aea511ce1"
      },
      "source": [
        "fig, ax = plt.subplots(figsize=(15, 5))\r\n",
        "ax.hist(product['price'], bins=50, range=[0,2000], label=\"price\")\r\n",
        "ax.hist(product['low_price'], bins=50, range=[0,2000], label=\"low_price\")\r\n",
        "plt.title(\"Histogram of Products Prices \", fontsize=15)\r\n",
        "plt.xlabel(' Price ', fontsize=15)\r\n",
        "plt.ylabel(' Count / Occurrences ', fontsize=15)\r\n",
        "plt.grid()\r\n",
        "plt.legend()\r\n",
        "plt.show()"
      ],
      "execution_count": null,
      "outputs": [
        {
          "output_type": "display_data",
          "data": {
            "image/png": "[encoded data removed]",
            "text/plain": [
              "<Figure size 1080x360 with 1 Axes>"
            ]
          },
          "metadata": {
            "tags": [],
            "needs_background": "light"
          }
        }
      ]
    },
    {
      "cell_type": "code",
      "metadata": {
        "colab": {
          "base_uri": "https://localhost:8080/",
          "height": 358
        },
        "id": "hDsBzuZ3Bm3-",
        "outputId": "9e842cac-5623-4fcb-d1b1-fe76314fd3a1"
      },
      "source": [
        "fig, ax = plt.subplots(figsize=(15, 5))\r\n",
        "ax.hist(product['price'], bins=50, range=[0,2000], label=\"Price\")\r\n",
        "plt.title(\"Histogram of Products Prices \", fontsize=15)\r\n",
        "plt.xlabel(' Low_price ', fontsize=15)\r\n",
        "plt.ylabel(' Count / Occurrences ', fontsize=15)\r\n",
        "plt.grid()\r\n",
        "plt.show()"
      ],
      "execution_count": null,
      "outputs": [
        {
          "output_type": "display_data",
          "data": {
            "image/png": "[encoded data removed]",
            "text/plain": [
              "<Figure size 1080x360 with 1 Axes>"
            ]
          },
          "metadata": {
            "tags": [],
            "needs_background": "light"
          }
        }
      ]
    },
    {
      "cell_type": "markdown",
      "metadata": {
        "id": "ssr1ZEgnYEoA"
      },
      "source": [
        "## 물건들의 가격 분포\r\n",
        "물건들의 가격 분포를 보면 상위로 갈수록 가격편차가 심하여 평균과 중간값의 차이가 클것입니다."
      ]
    },
    {
      "cell_type": "code",
      "metadata": {
        "colab": {
          "base_uri": "https://localhost:8080/",
          "height": 357
        },
        "id": "bnVZhMQDFsTA",
        "outputId": "7bca7bef-146f-47aa-d057-adcd80e1c142"
      },
      "source": [
        "fig, ax = plt.subplots(figsize=(15, 5))\r\n",
        "sns.boxplot(x='price', data=product ,showfliers=False)\r\n",
        "plt.title(\"BoxPlot of Products Prices \", fontsize=15)\r\n",
        "plt.xlabel(' Price ', fontsize=15)\r\n",
        "plt.show()"
      ],
      "execution_count": null,
      "outputs": [
        {
          "output_type": "display_data",
          "data": {
            "image/png": "[encoded data removed]",
            "text/plain": [
              "<Figure size 1080x360 with 1 Axes>"
            ]
          },
          "metadata": {
            "tags": [],
            "needs_background": "light"
          }
        }
      ]
    },
    {
      "cell_type": "markdown",
      "metadata": {
        "id": "KvnwD-e5YeHM"
      },
      "source": [
        "## 가격과 상품명의 길이 사이의 관계\r\n",
        "밑의 그림과 같이 가격과 상품명의 길이 사이의 관계를 보면 1 ~ 10 까지의 길이는 가격이 오를수록 상품명의 길이가 길어지는것을 볼수 있고 그 밖에 길이는 영향을 끼치지 않습니다."
      ]
    },
    {
      "cell_type": "code",
      "metadata": {
        "id": "g1xxwlSwKl1W"
      },
      "source": [
        "import re\r\n",
        "import string"
      ],
      "execution_count": null,
      "outputs": []
    },
    {
      "cell_type": "code",
      "metadata": {
        "id": "LdJeNCmNIbi2"
      },
      "source": [
        "def wordCount(text):\r\n",
        "    # convert to lower case and strip regex\r\n",
        "    try:\r\n",
        "         # convert to lower case and strip regex\r\n",
        "        regex = re.compile('[' +re.escape(string.punctuation) + '0-9\\\\r\\\\t\\\\n]')\r\n",
        "        txt = regex.sub(\" \", text)\r\n",
        "        # tokenize\r\n",
        "        # words = nltk.word_tokenize(clean_txt)\r\n",
        "        # remove words in stop words\r\n",
        "        words = [w for w in txt.split(\" \") if len(w)>=3]\r\n",
        "        return len(words)\r\n",
        "    except: \r\n",
        "        return 0"
      ],
      "execution_count": null,
      "outputs": []
    },
    {
      "cell_type": "code",
      "metadata": {
        "id": "tC2HMTDAgxSc"
      },
      "source": [
        "product['description_len'] = product['description'].apply(lambda x: len([w for w in x.split(\" \") if len(w) >= 3]))"
      ],
      "execution_count": null,
      "outputs": []
    },
    {
      "cell_type": "code",
      "metadata": {
        "colab": {
          "base_uri": "https://localhost:8080/",
          "height": 402
        },
        "id": "s31ZznH1g7-R",
        "outputId": "6e6417ee-1c36-4612-bae2-4977e144fedd"
      },
      "source": [
        "product"
      ],
      "execution_count": null,
      "outputs": [
        {
          "output_type": "execute_result",
          "data": {
            "text/html": [
              "<div>\n",
              "<style scoped>\n",
              "    .dataframe tbody tr th:only-of-type {\n",
              "        vertical-align: middle;\n",
              "    }\n",
              "\n",
              "    .dataframe tbody tr th {\n",
              "        vertical-align: top;\n",
              "    }\n",
              "\n",
              "    .dataframe thead th {\n",
              "        text-align: right;\n",
              "    }\n",
              "</style>\n",
              "<table border=\"1\" class=\"dataframe\">\n",
              "  <thead>\n",
              "    <tr style=\"text-align: right;\">\n",
              "      <th></th>\n",
              "      <th>Unnamed: 0</th>\n",
              "      <th>description</th>\n",
              "      <th>product_id</th>\n",
              "      <th>price</th>\n",
              "      <th>low_price</th>\n",
              "      <th>description_len</th>\n",
              "    </tr>\n",
              "  </thead>\n",
              "  <tbody>\n",
              "    <tr>\n",
              "      <th>0</th>\n",
              "      <td>0</td>\n",
              "      <td>모그 핑크에디션 린넨 100 여성 티블라우스 3종</td>\n",
              "      <td>b3 1046 b2 711864 4 52b86f b 290b 64f093 048 b...</td>\n",
              "      <td>79000</td>\n",
              "      <td>78000</td>\n",
              "      <td>3</td>\n",
              "    </tr>\n",
              "    <tr>\n",
              "      <th>1</th>\n",
              "      <td>1</td>\n",
              "      <td>gs단독방송 파오 pao 페이셜 피트니스</td>\n",
              "      <td>378 033f98466282b 6 7 1 b14f1 f8 8bb6f bf4115 ...</td>\n",
              "      <td>138000</td>\n",
              "      <td>124200</td>\n",
              "      <td>4</td>\n",
              "    </tr>\n",
              "    <tr>\n",
              "      <th>2</th>\n",
              "      <td>2</td>\n",
              "      <td>트라이엄프 슬로기 제로필 볼륨 여성속옷 브라팬티 8종세트</td>\n",
              "      <td>544 814338 218 5b3908 404f178027b249 2 4 77 b23</td>\n",
              "      <td>79000</td>\n",
              "      <td>78000</td>\n",
              "      <td>6</td>\n",
              "    </tr>\n",
              "    <tr>\n",
              "      <th>3</th>\n",
              "      <td>3</td>\n",
              "      <td>as98 에이에스98 파니아 프리미엄 웨지샌들 t y</td>\n",
              "      <td>142b1 66702 12 51525 1466660 8720 79 b 2499713...</td>\n",
              "      <td>138000</td>\n",
              "      <td>128000</td>\n",
              "      <td>5</td>\n",
              "    </tr>\n",
              "    <tr>\n",
              "      <th>4</th>\n",
              "      <td>4</td>\n",
              "      <td>all made in italy a s 98 파니아 이태리 웨지힐</td>\n",
              "      <td>829f12241 8 0816391 09 42884 f b1b8 01086 97 9...</td>\n",
              "      <td>138000</td>\n",
              "      <td>137000</td>\n",
              "      <td>6</td>\n",
              "    </tr>\n",
              "    <tr>\n",
              "      <th>...</th>\n",
              "      <td>...</td>\n",
              "      <td>...</td>\n",
              "      <td>...</td>\n",
              "      <td>...</td>\n",
              "      <td>...</td>\n",
              "      <td>...</td>\n",
              "    </tr>\n",
              "    <tr>\n",
              "      <th>56082</th>\n",
              "      <td>56082</td>\n",
              "      <td>노스페이스화이트라벨 여성용 카로나 워터 레깅스 all nyf6ki39 all</td>\n",
              "      <td>8ff6b9 67655244f9 4085 474182 961f 8048 193 5b...</td>\n",
              "      <td>40000</td>\n",
              "      <td>40000</td>\n",
              "      <td>7</td>\n",
              "    </tr>\n",
              "    <tr>\n",
              "      <th>56083</th>\n",
              "      <td>56083</td>\n",
              "      <td>캔마트 라벨무지라운드티 c051501</td>\n",
              "      <td>83 9f7 6f1023857 9 f 742f461f345 8 f4289 2 9 9...</td>\n",
              "      <td>8000</td>\n",
              "      <td>8000</td>\n",
              "      <td>3</td>\n",
              "    </tr>\n",
              "    <tr>\n",
              "      <th>56084</th>\n",
              "      <td>56084</td>\n",
              "      <td>노스페이스에디션 노스페이스 에디션 w’s lansing zip up jac</td>\n",
              "      <td>1804199 f08 f 9 0 342 91 241 71 6710 34 5741105</td>\n",
              "      <td>39000</td>\n",
              "      <td>39000</td>\n",
              "      <td>7</td>\n",
              "    </tr>\n",
              "    <tr>\n",
              "      <th>56085</th>\n",
              "      <td>56085</td>\n",
              "      <td>lazybee 코르셋1703 여성 래쉬가드 이너웨어</td>\n",
              "      <td>3095 226057 54b 451947 817 f39 099 37969bb4 95...</td>\n",
              "      <td>19800</td>\n",
              "      <td>15840</td>\n",
              "      <td>4</td>\n",
              "    </tr>\n",
              "    <tr>\n",
              "      <th>56086</th>\n",
              "      <td>56086</td>\n",
              "      <td>크리넥스 디럭스미니 카카오 new 230x6 x 2</td>\n",
              "      <td>25 4 574b50916 21 27f8796b 935f7 8 f 5 589 fb ...</td>\n",
              "      <td>15900</td>\n",
              "      <td>15900</td>\n",
              "      <td>5</td>\n",
              "    </tr>\n",
              "  </tbody>\n",
              "</table>\n",
              "<p>56087 rows × 6 columns</p>\n",
              "</div>"
            ],
            "text/plain": [
              "       Unnamed: 0  ... description_len\n",
              "0               0  ...               3\n",
              "1               1  ...               4\n",
              "2               2  ...               6\n",
              "3               3  ...               5\n",
              "4               4  ...               6\n",
              "...           ...  ...             ...\n",
              "56082       56082  ...               7\n",
              "56083       56083  ...               3\n",
              "56084       56084  ...               7\n",
              "56085       56085  ...               4\n",
              "56086       56086  ...               5\n",
              "\n",
              "[56087 rows x 6 columns]"
            ]
          },
          "metadata": {
            "tags": []
          },
          "execution_count": 33
        }
      ]
    },
    {
      "cell_type": "code",
      "metadata": {
        "id": "HsS63zhSLvpK"
      },
      "source": [
        "price = product.groupby('description_len')['price'].mean().reset_index()"
      ],
      "execution_count": null,
      "outputs": []
    },
    {
      "cell_type": "code",
      "metadata": {
        "colab": {
          "base_uri": "https://localhost:8080/",
          "height": 298
        },
        "id": "Qv9ghTyJMX8T",
        "outputId": "8597548d-d113-4b54-bd65-7187a292ed1a"
      },
      "source": [
        "price.plot(x = 'description_len',y = 'price')"
      ],
      "execution_count": null,
      "outputs": [
        {
          "output_type": "execute_result",
          "data": {
            "text/plain": [
              "<matplotlib.axes._subplots.AxesSubplot at 0x7f06d872a5d0>"
            ]
          },
          "metadata": {
            "tags": []
          },
          "execution_count": 35
        },
        {
          "output_type": "display_data",
          "data": {
            "image/png": "[encoded data removed]",
            "text/plain": [
              "<Figure size 432x288 with 1 Axes>"
            ]
          },
          "metadata": {
            "tags": [],
            "needs_background": "light"
          }
        }
      ]
    },
    {
      "cell_type": "markdown",
      "metadata": {
        "id": "HGrDSlzOZDWv"
      },
      "source": [
        "## 판매와 상품의 길이 사이의 관계\r\n",
        "아래 그림과 같이 상품명의 길이가  2.5 ~ 7.5 사이가 판매의 대부분을 차지하고 있습니다.  "
      ]
    },
    {
      "cell_type": "code",
      "metadata": {
        "id": "Us6hToBqkYIq"
      },
      "source": [
        "product_picked = product.groupby('description_len').sum().reset_index()"
      ],
      "execution_count": null,
      "outputs": []
    },
    {
      "cell_type": "code",
      "metadata": {
        "id": "Dep-HWa5kjFd"
      },
      "source": [
        "product_picked  = product_picked.rename(columns= {'Unnamed: 0' : 'count'})"
      ],
      "execution_count": null,
      "outputs": []
    },
    {
      "cell_type": "code",
      "metadata": {
        "colab": {
          "base_uri": "https://localhost:8080/",
          "height": 309
        },
        "id": "Hvhq3m-2WxwY",
        "outputId": "827fe4ce-f1be-42be-ddf4-d3eaacfb4142"
      },
      "source": [
        "product_picked.plot(x = 'description_len',y = 'count')"
      ],
      "execution_count": null,
      "outputs": [
        {
          "output_type": "execute_result",
          "data": {
            "text/plain": [
              "<matplotlib.axes._subplots.AxesSubplot at 0x7f06d8230f10>"
            ]
          },
          "metadata": {
            "tags": []
          },
          "execution_count": 63
        },
        {
          "output_type": "display_data",
          "data": {
            "image/png": "[encoded data removed]",
            "text/plain": [
              "<Figure size 432x288 with 1 Axes>"
            ]
          },
          "metadata": {
            "tags": [],
            "needs_background": "light"
          }
        }
      ]
    },
    {
      "cell_type": "markdown",
      "metadata": {
        "id": "Xjq9As3UZdGr"
      },
      "source": [
        "## 시간에 따른 품목의 판매량\r\n",
        "시간에 따라 품목의 판매가 영향이 끼치는지 를 보면\r\n",
        "아래의 그림과 같이 시간이 지날수록 판매가 급격하게 낮아지는것을 확인할수 있었습니다."
      ]
    },
    {
      "cell_type": "code",
      "metadata": {
        "id": "HX2UqSFHXVR3"
      },
      "source": [
        "df['dates'] = pd.to_datetime(df['data'], format='%Y%m%d%H%M%S')"
      ],
      "execution_count": null,
      "outputs": []
    },
    {
      "cell_type": "code",
      "metadata": {
        "id": "qQl_nRQjhB2-"
      },
      "source": [
        "new_df = df.set_index('dates')"
      ],
      "execution_count": null,
      "outputs": []
    },
    {
      "cell_type": "code",
      "metadata": {
        "colab": {
          "base_uri": "https://localhost:8080/"
        },
        "id": "DDFOLETCjVKR",
        "outputId": "3b5af77e-a01a-4cca-f4f4-686cae97b67f"
      },
      "source": [
        "new_df['data'].max()"
      ],
      "execution_count": null,
      "outputs": [
        {
          "output_type": "execute_result",
          "data": {
            "text/plain": [
              "20180731235920"
            ]
          },
          "metadata": {
            "tags": []
          },
          "execution_count": 39
        }
      ]
    },
    {
      "cell_type": "code",
      "metadata": {
        "id": "-2XfYAu7iDBo"
      },
      "source": [
        "new_df.drop(['Unnamed: 0'],axis = 1,inplace = True)"
      ],
      "execution_count": null,
      "outputs": []
    },
    {
      "cell_type": "code",
      "metadata": {
        "colab": {
          "base_uri": "https://localhost:8080/"
        },
        "id": "5o-Jtx7tkpta",
        "outputId": "714b3692-7fba-42b0-8018-2d78e7b42310"
      },
      "source": [
        "new_df.info()"
      ],
      "execution_count": null,
      "outputs": [
        {
          "output_type": "stream",
          "text": [
            "<class 'pandas.core.frame.DataFrame'>\n",
            "DatetimeIndex: 135990 entries, 2018-07-01 12:59:05 to 2018-07-21 08:43:10\n",
            "Data columns (total 3 columns):\n",
            " #   Column      Non-Null Count   Dtype \n",
            "---  ------      --------------   ----- \n",
            " 0   user_id     135990 non-null  object\n",
            " 1   product_id  135990 non-null  object\n",
            " 2   data        135990 non-null  int64 \n",
            "dtypes: int64(1), object(2)\n",
            "memory usage: 4.2+ MB\n"
          ],
          "name": "stdout"
        }
      ]
    },
    {
      "cell_type": "code",
      "metadata": {
        "id": "AewMnrqSjmrV"
      },
      "source": [
        "time_df = new_df.resample('D').sum()"
      ],
      "execution_count": null,
      "outputs": []
    },
    {
      "cell_type": "code",
      "metadata": {
        "colab": {
          "base_uri": "https://localhost:8080/",
          "height": 342
        },
        "id": "HzGr6_VJlH5C",
        "outputId": "07f62c20-b533-48fb-c11e-1e6cd4a79462"
      },
      "source": [
        "time_df.plot()"
      ],
      "execution_count": null,
      "outputs": [
        {
          "output_type": "execute_result",
          "data": {
            "text/plain": [
              "<matplotlib.axes._subplots.AxesSubplot at 0x7f06d82fc110>"
            ]
          },
          "metadata": {
            "tags": []
          },
          "execution_count": 53
        },
        {
          "output_type": "display_data",
          "data": {
            "image/png": "[encoded data removed]",
            "text/plain": [
              "<Figure size 432x288 with 1 Axes>"
            ]
          },
          "metadata": {
            "tags": [],
            "needs_background": "light"
          }
        }
      ]
    },
    {
      "cell_type": "markdown",
      "metadata": {
        "id": "0YhNN8w5d6WL"
      },
      "source": [
        "## 결론 \r\n",
        "* 상품의 길이가 2.5 ~ 7.5 사이가 판매가 가장 좋다\r\n",
        "* 상품의 최신성이 중요하다\r\n",
        "* 할인은 영향을 끼치지 않는다."
      ]
    },
    {
      "cell_type": "markdown",
      "metadata": {
        "id": "-v9Kug6RbjCD"
      },
      "source": [
        "# 2. 모델을 평가하기에 가장 적합한 Metric 및 이유"
      ]
    },
    {
      "cell_type": "markdown",
      "metadata": {
        "id": "JicqGW5PcmsT"
      },
      "source": [
        "\r\n",
        "## 저는 이 모델을 평가하는데 가장 적합한 metric 는 MRR(mean reciprocal rank)고 생각합니다. \r\n",
        "그 이유는 보통 머신러닝 모델 성능 평가 할때 precision,  recall, accuary 등을 사용하는데 추천시스템에서는  결과가 여러개 나오고, 이를 쓰기에는 불편한 점이 있습니다.\r\n",
        "MRR 은 여러개의 query로 평가하고 점수들의 평균을 취한 값이 mrr 이어서 추천시스템에 어울리는 모델 평가 수단입니다. "
      ]
    },
    {
      "cell_type": "markdown",
      "metadata": {
        "id": "SHVJiyPebWx4"
      },
      "source": [
        "# 3.적용한 기술 및 모델 튜닝 방법"
      ]
    },
    {
      "cell_type": "markdown",
      "metadata": {
        "id": "G5UPJ3k2cvKM"
      },
      "source": [
        "## 적용한 기술은 세션 기반 협업 필터링을 썻습니다.\r\n",
        "그 이유는 앞선 EDA 에서 아이템의 최신성에 크게 영향을 끼치는 홈쇼핑의 구조상 이용 패턴에 적합한 추천 기술로 판단하였습니다.\r\n",
        "또한 item2vec 기반 추천 시스템을 도입해 보았으나 성능이 세션 기반 협업 필터링 보다 떨어져 제외 하였습니다."
      ]
    },
    {
      "cell_type": "markdown",
      "metadata": {
        "id": "wgo4P1uFd98S"
      },
      "source": [
        "## 모델 튜닝 방법\n",
        "\n",
        "Args:\n",
        "    --loss_type: Loss function type. Should be one of the 'TOP1', 'BPR', 'CrossEntropy'.(Default: 'TOP1')\n",
        "\n",
        "    --model_name: The prefix for the intermediate models that will be stored during the training.(Default: 'GRU4REC')\n",
        "\n",
        "    --hidden_size: The dimension of the hidden layer of the GRU.(Default: 100)\n",
        "\n",
        "    --num_layers: The number of layers for the GRU.(Default: 1)\n",
        "\n",
        "    --batch_size: Training batch size.(Default: 50)\n",
        "\n",
        "    --dropout_input: Dropout probability of the input layer of the GRU.(Default: 0)\n",
        "\n",
        "    --dropout_hidden: Dropout probability of the hidden layer of the GRU.(Default: .5)\n",
        "\n",
        "    --optimizer_type: Optimizer type. Should be one of the 'Adagrad', 'RMSProp', 'Adadelta', 'Adam', 'SGD'(Default: 'Adagrad')\n",
        "\n",
        "    --lr: Learning rate for the optimizer.(Default: 0.01)\n",
        "\n",
        "    --weight_decay: Weight decay for the optimizer.(Default: 0)\n",
        "\n",
        "    --momentum: Momentum for the optimizer.(Default: 0)\n",
        "\n",
        "    --eps: eps parameter for the optimizer.(Default: 1e-6)\n",
        "\n",
        "    --n_epochs: The number of training epochs to run.(Default: 10)\n",
        "    \n",
        "    --time_sort: Whether to sort the sessions in the dataset in a time order.(Default: False)\n",
        "\n",
        "해당 시범 코드는 example.ipynb 에서 확인할수 있습니다"
      ]
    },
    {
      "cell_type": "markdown",
      "metadata": {
        "id": "4hCR0Ay0eJLw"
      },
      "source": [
        "# 4. Key Point\r\n"
      ]
    },
    {
      "cell_type": "markdown",
      "metadata": {
        "id": "vFdtuJDzfr5K"
      },
      "source": [
        "## 제가 가장 중요하게 생각했던 부분은 loss 부분으로써 TOP1-max 부분을 둘수있습니다\r\n",
        "그 이유는 [해당 논문](https://arxiv.org/pdf/1706.03847.pdf)을 보시면 TOP1-max 를 통해 성능이 크게 올르는것을 확인할수 있었고, 저또한 이 기술을 쓰고 recall 값이 0.08 이 증가하였습니다"
      ]
    },
    {
      "cell_type": "markdown",
      "metadata": {
        "id": "juVf3UIae7EQ"
      },
      "source": [
        "# 5. Huddle Point"
      ]
    },
    {
      "cell_type": "markdown",
      "metadata": {
        "id": "3sHcoWOpfmJx"
      },
      "source": [
        "## 미흡하거나 어려웠던 부분으로 test 와 label 을 나누어 생각하는 부분이 어려웠습니다.\r\n",
        "이를 해결하기 위해 item2vec 기반 협업 필터링을 시도하였으나 결과가 처음 모델과 비교하였을때 낮게 나왔었고 마지막에서는 test 를 제외한 train, label 로 전체를 구성하였습니다."
      ]
    },
    {
      "cell_type": "markdown",
      "metadata": {
        "id": "0KZGBNqcfnSS"
      },
      "source": [
        "# 6. 레퍼런스 논문들"
      ]
    },
    {
      "cell_type": "markdown",
      "metadata": {
        "id": "FjJSYRLwfvEY"
      },
      "source": [
        "[TOP-k gains](https://arxiv.org/pdf/1706.03847.pdf)\r\n",
        "\r\n",
        "[Session-based-recommendation](https://arxiv.org/pdf/1511.06939v4.pdf)\r\n",
        "\r\n",
        "[item2vec](https://arxiv.org/ftp/arxiv/papers/1603/1603.04259.pdf)"
      ]
    }
  ]
}